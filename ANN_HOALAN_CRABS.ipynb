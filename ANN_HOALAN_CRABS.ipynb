{
  "nbformat": 4,
  "nbformat_minor": 0,
  "metadata": {
    "colab": {
      "provenance": [],
      "authorship_tag": "ABX9TyOwlIDoeW6gh2EcgeevXVdx",
      "include_colab_link": true
    },
    "kernelspec": {
      "name": "python3",
      "display_name": "Python 3"
    },
    "language_info": {
      "name": "python"
    }
  },
  "cells": [
    {
      "cell_type": "markdown",
      "metadata": {
        "id": "view-in-github",
        "colab_type": "text"
      },
      "source": [
        "<a href=\"https://colab.research.google.com/github/MinhNhata/BTVN_1_19146227_MinhNhat/blob/main/ANN_HOALAN_CRABS.ipynb\" target=\"_parent\"><img src=\"https://colab.research.google.com/assets/colab-badge.svg\" alt=\"Open In Colab\"/></a>"
      ]
    },
    {
      "cell_type": "code",
      "execution_count": 1,
      "metadata": {
        "colab": {
          "base_uri": "https://localhost:8080/"
        },
        "id": "Tf8psacaWvKH",
        "outputId": "9d323875-861b-4c66-ad3f-6b9d51d8993d"
      },
      "outputs": [
        {
          "output_type": "execute_result",
          "data": {
            "text/plain": [
              "1.0"
            ]
          },
          "metadata": {},
          "execution_count": 1
        }
      ],
      "source": [
        "from sklearn import linear_model\n",
        "from sklearn.linear_model import Perceptron\n",
        "x= [[0,0],[0,1],[1,0],[1,1]]\n",
        "t= [0,1,1,1]\n",
        "\n",
        "model=Perceptron()\n",
        "model.fit(x,t)\n",
        "model.score(x,t)"
      ]
    },
    {
      "cell_type": "code",
      "source": [
        "x1=[[0.5,0.5],[-0.5,-0.5],[10,2.3],[-1,-2]]\n",
        "y=model.predict(x1)\n",
        "model.score(x,y)"
      ],
      "metadata": {
        "colab": {
          "base_uri": "https://localhost:8080/"
        },
        "id": "VsaSFb0wW5BC",
        "outputId": "78c61f93-60ce-492a-8a7d-12ea49cd1c7a"
      },
      "execution_count": 2,
      "outputs": [
        {
          "output_type": "execute_result",
          "data": {
            "text/plain": [
              "0.25"
            ]
          },
          "metadata": {},
          "execution_count": 2
        }
      ]
    },
    {
      "cell_type": "code",
      "source": [
        "x2 = [[0.5,0.5],[0.5,0],[0,0.5],[0.4,0]]\n",
        "y1=model.predict(x2)\n",
        "model.score(x,y1)\n",
        "print(y1)"
      ],
      "metadata": {
        "colab": {
          "base_uri": "https://localhost:8080/"
        },
        "id": "ss3w0StLXJvV",
        "outputId": "1f86afb9-b4d3-4e69-e16a-d10efb3f1fd1"
      },
      "execution_count": 3,
      "outputs": [
        {
          "output_type": "stream",
          "name": "stdout",
          "text": [
            "[1 0 0 0]\n"
          ]
        }
      ]
    },
    {
      "cell_type": "code",
      "source": [
        "from sklearn.linear_model import Perceptron\n",
        "\n",
        "x=[[-0.5,-0.5],[-0.5,0.5],[0.3,0.5],[-0.1,1]]\n",
        "t = [1,1,0,0]\n",
        "\n",
        "\n",
        "model=Perceptron()\n",
        "model.fit(x,t)\n",
        "model.score(x,t)"
      ],
      "metadata": {
        "colab": {
          "base_uri": "https://localhost:8080/"
        },
        "id": "YDh16_TTXMb4",
        "outputId": "8b907912-a1ad-47e3-9a49-a4fa1db5739a"
      },
      "execution_count": 4,
      "outputs": [
        {
          "output_type": "execute_result",
          "data": {
            "text/plain": [
              "1.0"
            ]
          },
          "metadata": {},
          "execution_count": 4
        }
      ]
    },
    {
      "cell_type": "code",
      "source": [
        "x1= [[0,0],[0,1],[1,0],[1,1]]\n",
        "y1 = model.predict(x)\n",
        "model.score(x,y1)\n",
        "print(y1)"
      ],
      "metadata": {
        "colab": {
          "base_uri": "https://localhost:8080/"
        },
        "id": "XzxUjY_1XO6X",
        "outputId": "fc783627-cc30-4706-8fff-9cf9555ea1cd"
      },
      "execution_count": 5,
      "outputs": [
        {
          "output_type": "stream",
          "name": "stdout",
          "text": [
            "[1 1 0 0]\n"
          ]
        }
      ]
    },
    {
      "cell_type": "code",
      "source": [
        "from sklearn.linear_model import Perceptron\n",
        "from sklearn import datasets\n",
        "from sklearn.model_selection import train_test_split \n",
        "\n",
        "from sklearn.metrics import accuracy_score\n",
        "from sklearn.preprocessing import StandardScaler\n",
        "\n",
        "\n",
        "iris = datasets.load_iris()\n",
        "x= iris.data\n",
        "y = iris.target\n",
        "print(x[:5])\n",
        "print(y[:5])\n",
        "\n",
        "x_train,x_test,y_train,y_test = train_test_split(x,y,test_size=0.3)\n",
        "sc=StandardScaler()\n",
        "sc.fit(x_train)\n",
        "x_train_std=sc.transform(x_train)\n",
        "x_test_std=sc.transform(x_test)\n",
        "print(x_train_std[:5],x_train[:5])\n",
        "print(y[:5])\n",
        "\n",
        "model = Perceptron(max_iter=1000,eta0=0.4,random_state=0)\n",
        "\n",
        "model.fit(x_train_std,y_train)\n",
        "y_pred=model.predict(x_test_std)\n",
        "\n",
        "print(y_pred)\n",
        "print(y_test)\n",
        "print(\"Do chinh xac mo hinh:\",accuracy_score(y_test,y_pred))"
      ],
      "metadata": {
        "colab": {
          "base_uri": "https://localhost:8080/"
        },
        "id": "osAbKfmPXS5R",
        "outputId": "45a455c4-48fc-4350-980f-25d4a4582aee"
      },
      "execution_count": 7,
      "outputs": [
        {
          "output_type": "stream",
          "name": "stdout",
          "text": [
            "[[5.1 3.5 1.4 0.2]\n",
            " [4.9 3.  1.4 0.2]\n",
            " [4.7 3.2 1.3 0.2]\n",
            " [4.6 3.1 1.5 0.2]\n",
            " [5.  3.6 1.4 0.2]]\n",
            "[0 0 0 0 0]\n",
            "[[ 1.25484588  0.08982076  0.59829697  0.32833208]\n",
            " [-0.09463921  2.21183626 -1.51094416 -1.35021955]\n",
            " [-0.58536107  0.79715926 -1.22591157 -1.35021955]\n",
            " [ 0.27340217 -0.61751774  0.48428393 -0.05902599]\n",
            " [-1.07608292  0.79715926 -1.33992461 -1.35021955]] [[6.9 3.1 4.9 1.5]\n",
            " [5.8 4.  1.2 0.2]\n",
            " [5.4 3.4 1.7 0.2]\n",
            " [6.1 2.8 4.7 1.2]\n",
            " [5.  3.4 1.5 0.2]]\n",
            "[0 0 0 0 0]\n",
            "[2 1 1 1 1 0 0 1 2 0 0 0 0 0 2 2 1 2 2 2 1 0 1 0 1 0 2 1 1 1 1 0 2 0 2 1 0\n",
            " 2 2 0 0 2 0 1 0]\n",
            "[2 2 1 1 1 0 0 1 2 0 0 0 0 0 1 2 1 2 2 2 1 0 1 0 1 0 2 1 1 1 1 0 1 0 2 1 0\n",
            " 2 2 0 0 2 0 1 0]\n",
            "Do chinh xac mo hinh: 0.9333333333333333\n"
          ]
        }
      ]
    },
    {
      "cell_type": "code",
      "source": [
        "\n",
        "#CRABS\n",
        "import pandas as pd \n",
        "import matplotlib.pyplot as plt\n",
        "import numpy as np\n",
        "url = '/content/crabs.csv'\n",
        "DataFrame = pd.read_csv(url)\n",
        "\n",
        "print(DataFrame)"
      ],
      "metadata": {
        "colab": {
          "base_uri": "https://localhost:8080/"
        },
        "id": "QUDz1__WXd38",
        "outputId": "8c5a368c-fb60-478c-9584-e49cf933c6ee"
      },
      "execution_count": 8,
      "outputs": [
        {
          "output_type": "stream",
          "name": "stdout",
          "text": [
            "    speies sex  index  fontallip  rearwidth  length  width  depth\n",
            "0        B   M      1        8.1        6.7    16.1   19.0    7.0\n",
            "1        B   M      2        8.8        7.7    18.1   20.8    7.4\n",
            "2        B   M      3        9.2        7.8    19.0   22.4    7.7\n",
            "3        B   M      4        9.6        7.9    20.1   23.1    8.2\n",
            "4        B   M      5        9.8        8.0    20.3   23.0    8.2\n",
            "..     ...  ..    ...        ...        ...     ...    ...    ...\n",
            "195      O   F     46       21.4       18.0    41.2   46.2   18.7\n",
            "196      O   F     47       21.7       17.1    41.7   47.2   19.6\n",
            "197      O   F     48       21.9       17.2    42.6   47.4   19.5\n",
            "198      O   F     49       22.5       17.2    43.0   48.7   19.8\n",
            "199      O   F     50       23.1       20.2    46.2   52.5   21.1\n",
            "\n",
            "[200 rows x 8 columns]\n"
          ]
        }
      ]
    },
    {
      "cell_type": "code",
      "source": [
        "DataFrame['speies'].replace({\"B\":\"0\",\"O\":\"1\"},inplace=True)\n",
        "DataFrame['sex'].replace({\"F\":\"0\",\"M\":\"1\"},inplace=True)\n",
        "print(DataFrame)"
      ],
      "metadata": {
        "colab": {
          "base_uri": "https://localhost:8080/"
        },
        "id": "Q5felzsEYAL8",
        "outputId": "a381ce22-2c6a-488d-a6ff-cdb0b41cdfaa"
      },
      "execution_count": 9,
      "outputs": [
        {
          "output_type": "stream",
          "name": "stdout",
          "text": [
            "    speies sex  index  fontallip  rearwidth  length  width  depth\n",
            "0        0   1      1        8.1        6.7    16.1   19.0    7.0\n",
            "1        0   1      2        8.8        7.7    18.1   20.8    7.4\n",
            "2        0   1      3        9.2        7.8    19.0   22.4    7.7\n",
            "3        0   1      4        9.6        7.9    20.1   23.1    8.2\n",
            "4        0   1      5        9.8        8.0    20.3   23.0    8.2\n",
            "..     ...  ..    ...        ...        ...     ...    ...    ...\n",
            "195      1   0     46       21.4       18.0    41.2   46.2   18.7\n",
            "196      1   0     47       21.7       17.1    41.7   47.2   19.6\n",
            "197      1   0     48       21.9       17.2    42.6   47.4   19.5\n",
            "198      1   0     49       22.5       17.2    43.0   48.7   19.8\n",
            "199      1   0     50       23.1       20.2    46.2   52.5   21.1\n",
            "\n",
            "[200 rows x 8 columns]\n"
          ]
        }
      ]
    },
    {
      "cell_type": "code",
      "source": [
        "DataFrame= datasets.load_iris()\n",
        "x= DataFrame.data\n",
        "y = DataFrame.target\n",
        "print(x[:5])\n",
        "print(y[:5])\n",
        "\n",
        "x_train,x_test,y_train,y_test = train_test_split(x,y,test_size=0.3)\n",
        "sc=StandardScaler()\n",
        "sc.fit(x_train)\n",
        "x_train_std=sc.transform(x_train)\n",
        "x_test_std=sc.transform(x_test)\n",
        "print(x_train_std[:5],x_train[:5])\n",
        "print(y[:5])\n",
        "\n",
        "model = Perceptron(max_iter=1000,eta0=0.4,random_state=0)\n",
        "\n",
        "model.fit(x_train_std,y_train)\n",
        "y_pred=model.predict(x_test_std)\n",
        "\n",
        "print(y_pred)\n",
        "print(y_test)\n",
        "print(\"Do chinh xac mo hinh:\",accuracy_score(y_test,y_pred))"
      ],
      "metadata": {
        "colab": {
          "base_uri": "https://localhost:8080/"
        },
        "id": "TVP_sLHzYD2n",
        "outputId": "d0602485-b497-44cb-fc79-03d46e56f731"
      },
      "execution_count": 10,
      "outputs": [
        {
          "output_type": "stream",
          "name": "stdout",
          "text": [
            "[[5.1 3.5 1.4 0.2]\n",
            " [4.9 3.  1.4 0.2]\n",
            " [4.7 3.2 1.3 0.2]\n",
            " [4.6 3.1 1.5 0.2]\n",
            " [5.  3.6 1.4 0.2]]\n",
            "[0 0 0 0 0]\n",
            "[[-0.81471591 -0.7968363   0.02590507  0.19363274]\n",
            " [ 0.15600943 -1.93672475  0.08377809 -0.33445655]\n",
            " [-1.17873792  0.11507445 -1.3630474  -1.39063511]\n",
            " [-1.54275992  0.11507445 -1.3630474  -1.39063511]\n",
            " [-0.32935324 -0.34088093 -0.14771399  0.06161042]] [[5.2 2.7 3.9 1.4]\n",
            " [6.  2.2 4.  1. ]\n",
            " [4.9 3.1 1.5 0.2]\n",
            " [4.6 3.1 1.5 0.2]\n",
            " [5.6 2.9 3.6 1.3]]\n",
            "[0 0 0 0 0]\n",
            "[1 1 0 2 1 0 1 1 1 2 0 2 0 2 1 1 0 2 1 0 2 0 0 0 0 1 1 0 0 0 0 2 1 2 0 0 2\n",
            " 2 1 2 0 0 2 1 2]\n",
            "[1 1 0 2 1 0 1 1 1 1 0 2 0 1 2 1 0 2 1 0 2 0 0 0 0 1 1 0 0 0 0 2 1 2 0 0 2\n",
            " 2 1 1 0 0 2 1 2]\n",
            "Do chinh xac mo hinh: 0.9111111111111111\n"
          ]
        }
      ]
    }
  ]
}