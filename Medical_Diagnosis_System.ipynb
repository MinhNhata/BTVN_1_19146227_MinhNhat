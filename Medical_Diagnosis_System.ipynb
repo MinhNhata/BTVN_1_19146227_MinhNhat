{
  "nbformat": 4,
  "nbformat_minor": 0,
  "metadata": {
    "colab": {
      "provenance": [],
      "authorship_tag": "ABX9TyMMaEymhv8LVjMm/SkavVzD",
      "include_colab_link": true
    },
    "kernelspec": {
      "name": "python3",
      "display_name": "Python 3"
    },
    "language_info": {
      "name": "python"
    }
  },
  "cells": [
    {
      "cell_type": "markdown",
      "metadata": {
        "id": "view-in-github",
        "colab_type": "text"
      },
      "source": [
        "<a href=\"https://colab.research.google.com/github/MinhNhata/BTVN_1_19146227_MinhNhat/blob/main/Medical_Diagnosis_System.ipynb\" target=\"_parent\"><img src=\"https://colab.research.google.com/assets/colab-badge.svg\" alt=\"Open In Colab\"/></a>"
      ]
    },
    {
      "cell_type": "code",
      "execution_count": null,
      "metadata": {
        "colab": {
          "base_uri": "https://localhost:8080/"
        },
        "id": "d6wS4yUWM9-V",
        "outputId": "429edcbe-8edc-42d9-c74f-e50006f1945c"
      },
      "outputs": [
        {
          "output_type": "stream",
          "name": "stdout",
          "text": [
            "Looking in indexes: https://pypi.org/simple, https://us-python.pkg.dev/colab-wheels/public/simple/\n",
            "Collecting scikit-fuzzy\n",
            "  Downloading scikit-fuzzy-0.4.2.tar.gz (993 kB)\n",
            "\u001b[2K     \u001b[90m━━━━━━━━━━━━━━━━━━━━━━━━━━━━━━━━━━━━━━\u001b[0m \u001b[32m994.0/994.0 KB\u001b[0m \u001b[31m33.7 MB/s\u001b[0m eta \u001b[36m0:00:00\u001b[0m\n",
            "\u001b[?25h  Preparing metadata (setup.py) ... \u001b[?25l\u001b[?25hdone\n",
            "Requirement already satisfied: numpy>=1.6.0 in /usr/local/lib/python3.8/dist-packages (from scikit-fuzzy) (1.22.4)\n",
            "Requirement already satisfied: scipy>=0.9.0 in /usr/local/lib/python3.8/dist-packages (from scikit-fuzzy) (1.7.3)\n",
            "Requirement already satisfied: networkx>=1.9.0 in /usr/local/lib/python3.8/dist-packages (from scikit-fuzzy) (3.0)\n",
            "Building wheels for collected packages: scikit-fuzzy\n",
            "  Building wheel for scikit-fuzzy (setup.py) ... \u001b[?25l\u001b[?25hdone\n",
            "  Created wheel for scikit-fuzzy: filename=scikit_fuzzy-0.4.2-py3-none-any.whl size=894088 sha256=922c1f38b8c25ae306093fe0c23c986635f0ec5cf9fa65b59ed4f43c98a3bb28\n",
            "  Stored in directory: /root/.cache/pip/wheels/2c/04/80/7eefb1a2de7d36aefd06432fab2a1486caf0a0596a7067391a\n",
            "Successfully built scikit-fuzzy\n",
            "Installing collected packages: scikit-fuzzy\n",
            "Successfully installed scikit-fuzzy-0.4.2\n"
          ]
        }
      ],
      "source": [
        "pip install -U scikit-fuzzy"
      ]
    },
    {
      "cell_type": "code",
      "source": [
        "import numpy as np\n",
        "import skfuzzy as fuzz \n",
        "from skfuzzy import control as ctrl \n",
        "\n",
        "fever = ctrl.Antecedent(np.arange(0,1,0.1), 'fever')\n",
        "headache = ctrl.Antecedent(np.arange(0,1,0.1), 'headache')\n",
        "nausea = ctrl.Antecedent(np.arange(0,1,0.1), 'nausea')\n",
        "vomiting = ctrl.Antecedent(np.arange(0,1,0.1), 'vomiting')\n",
        "jaundice = ctrl.Antecedent(np.arange(0,1,0.1), 'jaundice')\n",
        "enlarge_liver = ctrl.Antecedent(np.arange(0,1,0.1), 'enlarge_liver')\n",
        "joint_pain = ctrl.Antecedent(np.arange(0,1,0.1), 'joint_pain')\n",
        "body_weakness = ctrl.Antecedent(np.arange(0,1,0.1), 'body_weakness')\n",
        "dizziness = ctrl.Antecedent(np.arange(0,1,0.1), 'dizziness')\n",
        "loss_of_appetite = ctrl.Antecedent(np.arange(0,1,0.1), 'loss_of_appetite')\n",
        "mp = ctrl.Antecedent(np.arange(0,1,0.1), 'mp')\n",
        "\n",
        "conclusion = ctrl.Consequent(np.arange(0,1,0.01), 'conclusion') "
      ],
      "metadata": {
        "id": "_xK-P2cTNTww"
      },
      "execution_count": null,
      "outputs": []
    },
    {
      "cell_type": "code",
      "source": [
        "fever['mild'] = fuzz.trimf(fever.universe, [0.1,0.2,0.3]) \n",
        "fever['moderate'] = fuzz.trimf(fever.universe, [0.3,0.5,0.6])\n",
        "fever['service'] = fuzz.trimf(fever.universe, [0.6,0.7,0.8])\n",
        "fever['very_service'] = fuzz.trimf(fever.universe, [0.8,0.9,1])\n",
        "\n",
        "fever.view()"
      ],
      "metadata": {
        "colab": {
          "base_uri": "https://localhost:8080/",
          "height": 281
        },
        "id": "n5sLW6NxOxwW",
        "outputId": "73a1cd2f-e63c-4185-da5f-663ed5788f35"
      },
      "execution_count": null,
      "outputs": [
        {
          "output_type": "display_data",
          "data": {
            "text/plain": [
              "<Figure size 432x288 with 1 Axes>"
            ],
            "image/png": "[encoded data removed]"
          },
          "metadata": {
            "needs_background": "light"
          }
        }
      ]
    },
    {
      "cell_type": "code",
      "source": [
        "headache['mild'] = fuzz.trimf(headache.universe,  [0.1,0.2,0.3])\n",
        "headache['moderate'] = fuzz.trimf(headache.universe, [0.3,0.5,0.6])\n",
        "headache['service'] = fuzz.trimf(headache.universe, [0.6,0.7,0.8])\n",
        "headache['very_service'] = fuzz.trimf(headache.universe, [0.8,0.9,1])\n",
        "\n"
      ],
      "metadata": {
        "id": "tZLW0awePzWb"
      },
      "execution_count": null,
      "outputs": []
    },
    {
      "cell_type": "code",
      "source": [
        "nausea['mild'] = fuzz.trimf(nausea.universe,  [0.1,0.2,0.3])\n",
        "nausea['moderate'] = fuzz.trimf(nausea.universe, [0.3,0.5,0.6])\n",
        "nausea['service'] = fuzz.trimf(nausea.universe, [0.6,0.7,0.8])\n",
        "nausea['very_service'] = fuzz.trimf(nausea.universe, [0.8,0.9,1])\n",
        "\n"
      ],
      "metadata": {
        "id": "47yL3DFvQDEe"
      },
      "execution_count": null,
      "outputs": []
    },
    {
      "cell_type": "code",
      "source": [
        "vomiting['mild'] = fuzz.trimf(vomiting.universe,  [0.1,0.2,0.3])\n",
        "vomiting['moderate'] = fuzz.trimf(vomiting.universe, [0.3,0.5,0.6])\n",
        "vomiting['service'] = fuzz.trimf(vomiting.universe, [0.6,0.7,0.8])\n",
        "vomiting['very_service'] = fuzz.trimf(vomiting.universe, [0.8,0.9,1])\n",
        "\n"
      ],
      "metadata": {
        "id": "vebWecRjQd7C"
      },
      "execution_count": null,
      "outputs": []
    },
    {
      "cell_type": "code",
      "source": [
        "jaundice['mild'] = fuzz.trimf(jaundice.universe,  [0.1,0.2,0.3])\n",
        "jaundice['moderate'] = fuzz.trimf(jaundice.universe, [0.3,0.5,0.6])\n",
        "jaundice['service'] = fuzz.trimf(jaundice.universe, [0.6,0.7,0.8])\n",
        "jaundice['very_service'] = fuzz.trimf(jaundice.universe, [0.8,0.9,1])\n",
        "\n"
      ],
      "metadata": {
        "id": "6jC9fWeZQvcY"
      },
      "execution_count": null,
      "outputs": []
    },
    {
      "cell_type": "code",
      "source": [
        "enlarge_liver['mild'] = fuzz.trimf(enlarge_liver.universe,  [0.1,0.2,0.3])\n",
        "enlarge_liver['moderate'] = fuzz.trimf(enlarge_liver.universe, [0.3,0.5,0.6])\n",
        "enlarge_liver['service'] = fuzz.trimf(enlarge_liver.universe, [0.6,0.7,0.8])\n",
        "enlarge_liver['very_service'] = fuzz.trimf(enlarge_liver.universe, [0.8,0.9,1])\n",
        "\n",
        "\n"
      ],
      "metadata": {
        "id": "yw0dZowjRJml"
      },
      "execution_count": null,
      "outputs": []
    },
    {
      "cell_type": "code",
      "source": [
        "\n",
        "joint_pain['mild'] = fuzz.trimf(joint_pain.universe,  [0.1,0.2,0.3])\n",
        "joint_pain['moderate'] = fuzz.trimf(joint_pain.universe, [0.3,0.5,0.6])\n",
        "joint_pain['service'] = fuzz.trimf(joint_pain.universe, [0.6,0.7,0.8])\n",
        "joint_pain['very_service'] = fuzz.trimf(joint_pain.universe, [0.8,0.9,1])\n",
        "\n",
        "\n"
      ],
      "metadata": {
        "id": "f0QAjMcpSBUR"
      },
      "execution_count": null,
      "outputs": []
    },
    {
      "cell_type": "code",
      "source": [
        "body_weakness['mild'] = fuzz.trimf(body_weakness.universe,  [0.1,0.2,0.3])\n",
        "body_weakness['moderate'] = fuzz.trimf(body_weakness.universe, [0.3,0.5,0.6])\n",
        "body_weakness['service'] = fuzz.trimf(body_weakness.universe, [0.6,0.7,0.8])\n",
        "body_weakness['very_service'] = fuzz.trimf(body_weakness.universe, [0.8,0.9,1])\n",
        "\n",
        "\n"
      ],
      "metadata": {
        "id": "owVvZuPASRtL"
      },
      "execution_count": null,
      "outputs": []
    },
    {
      "cell_type": "code",
      "source": [
        "dizziness['mild'] = fuzz.trimf(dizziness.universe,  [0.1,0.2,0.3])\n",
        "dizziness['moderate'] = fuzz.trimf(dizziness.universe, [0.3,0.5,0.6])\n",
        "dizziness['service'] = fuzz.trimf(dizziness.universe, [0.6,0.7,0.8])\n",
        "dizziness['very_service'] = fuzz.trimf(dizziness.universe, [0.8,0.9,1])"
      ],
      "metadata": {
        "id": "Ggs9cxM9Sv4v"
      },
      "execution_count": null,
      "outputs": []
    },
    {
      "cell_type": "code",
      "source": [
        "loss_of_appetite['mild'] = fuzz.trimf(loss_of_appetite.universe,  [0.1,0.2,0.3])\n",
        "loss_of_appetite['moderate'] = fuzz.trimf(loss_of_appetite.universe, [0.3,0.5,0.6])\n",
        "loss_of_appetite['service'] = fuzz.trimf(loss_of_appetite.universe, [0.6,0.7,0.8])\n",
        "loss_of_appetite['very_service'] = fuzz.trimf(loss_of_appetite.universe, [0.8,0.9,1])"
      ],
      "metadata": {
        "id": "pHfDvebOS1b8"
      },
      "execution_count": null,
      "outputs": []
    },
    {
      "cell_type": "code",
      "source": [
        "mp['mild'] = fuzz.trimf(mp.universe,  [0.1,0.2,0.3])\n",
        "mp['moderate'] = fuzz.trimf(mp.universe, [0.3,0.5,0.6])\n",
        "mp['service'] = fuzz.trimf(mp.universe, [0.6,0.7,0.8])\n",
        "mp['very_service'] = fuzz.trimf(mp.universe, [0.8,0.9,1])\n"
      ],
      "metadata": {
        "id": "ScpzeF9NTXAi"
      },
      "execution_count": null,
      "outputs": []
    },
    {
      "cell_type": "code",
      "source": [
        "conclusion['mild'] = fuzz.trimf(conclusion.universe,  [0.1,0.2,0.3])\n",
        "conclusion['moderate'] = fuzz.trimf(conclusion.universe, [0.3,0.5,0.6])\n",
        "conclusion['service'] = fuzz.trimf(conclusion.universe, [0.6,0.7,0.8])\n",
        "conclusion['very_service'] = fuzz.trimf(conclusion.universe, [0.8,0.9,1])"
      ],
      "metadata": {
        "id": "26M2I07mTdTf"
      },
      "execution_count": null,
      "outputs": []
    },
    {
      "cell_type": "code",
      "source": [
        "rule1 = ctrl.Rule(fever['mild']&headache['mild']&nausea['mild']&vomiting['mild']&jaundice['mild']&enlarge_liver['mild']&joint_pain['mild']&body_weakness['mild']&dizziness['service']&loss_of_appetite['mild']&mp['mild'],conclusion['mild'])\n",
        "rule2 = ctrl.Rule(fever['moderate']&headache['mild']&nausea['mild']&vomiting['mild']&jaundice['mild']&enlarge_liver['mild']&joint_pain['moderate']&body_weakness['moderate']&dizziness['service']&loss_of_appetite['service']&mp['moderate'],conclusion['moderate'])\n",
        "rule3 = ctrl.Rule(fever['service']&headache['moderate']&nausea['mild']&vomiting['mild']&jaundice['mild']&enlarge_liver['mild']&joint_pain['mild']&body_weakness['service']&dizziness['service']&loss_of_appetite['service']&mp['moderate'],conclusion['service'])\n",
        "rule4 = ctrl.Rule(fever['very_service']&headache['mild']&nausea['mild']&vomiting['mild']&jaundice['mild']&enlarge_liver['mild']&joint_pain['service']&body_weakness['service']&dizziness['service']&loss_of_appetite['mild']&mp['service'],conclusion['very_service'])\n",
        "rule5 = ctrl.Rule(fever['moderate']&headache['mild']&nausea['mild']&vomiting['moderate']&jaundice['mild']&enlarge_liver['mild']&joint_pain['moderate']&body_weakness['moderate']&dizziness['moderate']&loss_of_appetite['service']&mp['moderate'],conclusion['moderate'])\n",
        "rule6 = ctrl.Rule(fever['mild']&headache['moderate']&nausea['moderate']&vomiting['mild']&jaundice['mild']&enlarge_liver['mild']&joint_pain['mild']&body_weakness['mild']&dizziness['moderate']&loss_of_appetite['mild']&mp['mild'],conclusion['mild'])\n",
        "rule7 = ctrl.Rule(fever['mild']&headache['mild']&nausea['moderate']&vomiting['moderate']&jaundice['mild']&enlarge_liver['mild']&joint_pain['service']&body_weakness['service']&dizziness['moderate']&loss_of_appetite['moderate']&mp['moderate'],conclusion['service'])\n",
        "rule8 = ctrl.Rule(fever['moderate']&headache['moderate']&nausea['moderate']&vomiting['moderate']&jaundice['moderate']&enlarge_liver['moderate']&joint_pain['moderate']&body_weakness['moderate']&dizziness['moderate']&loss_of_appetite['moderate']&mp['moderate'],conclusion['moderate'])\n",
        "rule9 = ctrl.Rule(fever['moderate']&headache['mild']&nausea['moderate']&vomiting['moderate']&jaundice['mild']&enlarge_liver['service']&joint_pain['moderate']&body_weakness['moderate']&dizziness['service']&loss_of_appetite['moderate']&mp['moderate'],conclusion['moderate'])\n",
        "rule10 = ctrl.Rule(fever['mild']&headache['mild']&nausea['moderate']&vomiting['moderate']&jaundice['mild']&enlarge_liver['moderate']&joint_pain['mild']&body_weakness['mild']&dizziness['mild']&loss_of_appetite['mild']&mp['mild'],conclusion['mild'])\n",
        "rule11 = ctrl.Rule(fever['service']&headache['service']&nausea['service']&vomiting['service']&jaundice['service']&enlarge_liver['service']&joint_pain['service']&body_weakness['very_service']&dizziness['service']&loss_of_appetite['service']&mp['moderate'],conclusion['very_service'])\n",
        "rule12 = ctrl.Rule(fever['moderate']&headache['service']&nausea['moderate']&vomiting['service']&jaundice['moderate']&enlarge_liver['service']&joint_pain['moderate']&body_weakness['service']&dizziness['moderate']&loss_of_appetite['mild']&mp['moderate'],conclusion['service'])\n",
        "rule13 = ctrl.Rule(fever['mild']&headache['moderate']&nausea['moderate']&vomiting['moderate']&jaundice['mild']&enlarge_liver['mild']&joint_pain['mild']&body_weakness['moderate']&dizziness['mild']&loss_of_appetite['moderate']&mp['moderate'],conclusion['moderate'])\n",
        "rule14 = ctrl.Rule(fever['service']&headache['service']&nausea['moderate']&vomiting['service']&jaundice['service']&enlarge_liver['service']&joint_pain['service']&body_weakness['service']&dizziness['moderate']&loss_of_appetite['moderate']&mp['service'],conclusion['service'])\n",
        "rule15 = ctrl.Rule(fever['mild']&headache['mild']&nausea['mild']&vomiting['moderate']&jaundice['mild']&enlarge_liver['mild']&joint_pain['mild']&body_weakness['service']&dizziness['mild']&loss_of_appetite['service']&mp['moderate'],conclusion['service'])\n",
        "rule16 = ctrl.Rule(fever['very_service']&headache['moderate']&nausea['mild']&vomiting['moderate']&jaundice['service']&enlarge_liver['moderate']&joint_pain['mild']&body_weakness['very_service']&dizziness['service']&loss_of_appetite['mild']&mp['moderate'],conclusion['very_service'])\n",
        "rule17 = ctrl.Rule(fever['mild']&headache['very_service']&nausea['moderate']&vomiting['moderate']&jaundice['mild']&enlarge_liver['moderate']&joint_pain['mild']&body_weakness['moderate']&dizziness['very_service']&loss_of_appetite['mild']&mp['moderate'],conclusion['very_service'])\n",
        "rule18 = ctrl.Rule(fever['moderate']&headache['very_service']&nausea['very_service']&vomiting['mild']&jaundice['service']&enlarge_liver['service']&joint_pain['moderate']&body_weakness['service']&dizziness['very_service']&loss_of_appetite['very_service']&mp['service'],conclusion['very_service'])\n",
        "rule19 = ctrl.Rule(fever['moderate']&headache['moderate']&nausea['moderate']&vomiting['moderate']&jaundice['mild']&enlarge_liver['mild']&joint_pain['moderate']&body_weakness['moderate']&dizziness['moderate']&loss_of_appetite['mild']&mp['moderate'],conclusion['moderate'])\n",
        "rule20 = ctrl.Rule(fever['very_service']&headache['service']&nausea['service']&vomiting['service']&jaundice['service']&enlarge_liver['service']&joint_pain['service']&body_weakness['service']&dizziness['service']&loss_of_appetite['mild']&mp['moderate'],conclusion['very_service'])\n",
        "\n",
        "\n"
      ],
      "metadata": {
        "id": "HGYYQQMhTiDh"
      },
      "execution_count": null,
      "outputs": []
    },
    {
      "cell_type": "code",
      "source": [
        "ketluan_ctrl = ctrl.ControlSystem([rule1, rule2, rule3, rule4, rule5, rule6, rule7, rule8, rule9, rule10, rule11, rule12, rule13, rule14, rule15, rule16, rule17, rule18, rule19, rule20])\n",
        "ketluan = ctrl.ControlSystemSimulation(ketluan_ctrl)\n",
        "\n",
        "ketluan.input['fever'] = 0.4\n",
        "ketluan.input['headache'] = 0.3\n",
        "ketluan.input['nausea'] = 0.5\n",
        "ketluan.input['vomiting'] = 0.3\n",
        "ketluan.input['jaundice'] = 0.6\n",
        "ketluan.input['enlarge_liver'] = 0.3\n",
        "ketluan.input['joint_pain'] = 0.3\n",
        "ketluan.input['body_weakness'] = 0.3\n",
        "ketluan.input['dizziness'] = 0.3\n",
        "ketluan.input['loss_of_appetite'] = 0.4\n",
        "ketluan.input['mp'] = 0.6\n",
        "\n",
        "ketluan.compute()\n",
        "print(ketluan.output['conclusion'])\n",
        "conclusion.view(sim=ketluan)\n",
        "\n",
        "\n",
        "\n",
        "                                 "
      ],
      "metadata": {
        "id": "AUAkzXVrXpy7",
        "colab": {
          "base_uri": "https://localhost:8080/",
          "height": 298
        },
        "outputId": "324c00fc-962d-48d0-b090-b4e9f6701694"
      },
      "execution_count": 64,
      "outputs": [
        {
          "output_type": "stream",
          "name": "stdout",
          "text": [
            "0.1650208333333332\n"
          ]
        },
        {
          "output_type": "display_data",
          "data": {
            "text/plain": [
              "<Figure size 432x288 with 1 Axes>"
            ],
            "image/png": "[encoded data removed]"
          },
          "metadata": {
            "needs_background": "light"
          }
        }
      ]
    }
  ]
}