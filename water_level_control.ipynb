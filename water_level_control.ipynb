{
  "nbformat": 4,
  "nbformat_minor": 0,
  "metadata": {
    "colab": {
      "provenance": [],
      "authorship_tag": "ABX9TyNiITGGiCbE1Sb6nPIi5TOl",
      "include_colab_link": true
    },
    "kernelspec": {
      "name": "python3",
      "display_name": "Python 3"
    },
    "language_info": {
      "name": "python"
    }
  },
  "cells": [
    {
      "cell_type": "markdown",
      "metadata": {
        "id": "view-in-github",
        "colab_type": "text"
      },
      "source": [
        "<a href=\"https://colab.research.google.com/github/MinhNhata/BTVN_1_19146227_MinhNhat/blob/main/water_level_control.ipynb\" target=\"_parent\"><img src=\"https://colab.research.google.com/assets/colab-badge.svg\" alt=\"Open In Colab\"/></a>"
      ]
    },
    {
      "cell_type": "code",
      "execution_count": 10,
      "metadata": {
        "colab": {
          "base_uri": "https://localhost:8080/"
        },
        "id": "hSvr14CllJ9g",
        "outputId": "8938c8ff-1761-4db1-c1f0-850f14a2cc6c"
      },
      "outputs": [
        {
          "output_type": "stream",
          "name": "stdout",
          "text": [
            "Looking in indexes: https://pypi.org/simple, https://us-python.pkg.dev/colab-wheels/public/simple/\n",
            "Requirement already satisfied: scikit-fuzzy in /usr/local/lib/python3.9/dist-packages (0.4.2)\n",
            "Requirement already satisfied: scipy>=0.9.0 in /usr/local/lib/python3.9/dist-packages (from scikit-fuzzy) (1.10.1)\n",
            "Requirement already satisfied: numpy>=1.6.0 in /usr/local/lib/python3.9/dist-packages (from scikit-fuzzy) (1.22.4)\n",
            "Requirement already satisfied: networkx>=1.9.0 in /usr/local/lib/python3.9/dist-packages (from scikit-fuzzy) (3.0)\n"
          ]
        }
      ],
      "source": [
        "pip install scikit-fuzzy"
      ]
    },
    {
      "cell_type": "code",
      "source": [
        "import numpy as np\n",
        "import skfuzzy as fuzzy\n",
        "from skfuzzy import control as ctrl\n",
        "import matplotlib.pyplot as plt\n",
        "from mpl_toolkits.mplot3d import Axes3D\n",
        "\n",
        "universe = np.linspace(-1, 1, 50)\n",
        "universe1 = np.linspace(0, 1, 50)\n",
        "level = ctrl.Antecedent(universe, 'level')\n",
        "\n",
        "valve = ctrl.Consequent(universe1, 'valve')\n",
        "#muc nuoc\n",
        "level['high'] = fuzzy.gaussmf(level.universe,-1,0.5)\n",
        "level['okay'] = fuzzy.gaussmf(level.universe,0,0.5)\n",
        "level['low'] = fuzzy.gaussmf(level.universe,1,0.5)\n",
        "\n",
        "#toc do xa van\n",
        "valve['closefast'] = fuzzy.trimf(valve.universe,[0,0,0.4])\n",
        "valve['nochange'] = fuzzy.trimf(valve.universe,[0.1,0.5,0.9])\n",
        "valve['openfast'] = fuzzy.trimf(valve.universe,[0.6,1,1])\n",
        "\n",
        "\n",
        "rule1 = ctrl.Rule(antecedent = (level['okay']), consequent = (valve['nochange']))\n",
        "rule2 = ctrl.Rule(antecedent = (level['low']), consequent = (valve['openfast']))\n",
        "rule3 = ctrl.Rule(antecedent = (level['high']), consequent = (valve['closefast']))\n",
        "\n",
        "\n",
        "\n",
        "System  = ctrl.ControlSystem(rules = [rule1, rule2, rule3])\n",
        "sim = ctrl.ControlSystemSimulation(System)\n",
        "x = np.linspace(-1, 1, 50)\n",
        "y = np.zeros_like(x)\n",
        "for i in range(50):\n",
        "  sim.input['level'] = x[i]\n",
        "  sim.compute()\n",
        "  y[i] = sim.output['valve']\n",
        "\n",
        "fig1 = plt.figure()\n",
        "ax1 = fig1.add_subplot(111)\n",
        "ax1.plot(x, y)"
      ],
      "metadata": {
        "colab": {
          "base_uri": "https://localhost:8080/",
          "height": 282
        },
        "id": "ZL43K0JBoaVL",
        "outputId": "a5cc5725-514a-43a0-e3b0-08a3ee74c2ee"
      },
      "execution_count": 13,
      "outputs": [
        {
          "output_type": "execute_result",
          "data": {
            "text/plain": [
              "[<matplotlib.lines.Line2D at 0x7efc18b63820>]"
            ]
          },
          "metadata": {},
          "execution_count": 13
        },
        {
          "output_type": "display_data",
          "data": {
            "text/plain": [
              "<Figure size 432x288 with 1 Axes>"
            ],
            "image/png": "[encoded data removed]"
          },
          "metadata": {
            "needs_background": "light"
          }
        }
      ]
    }
  ]
}