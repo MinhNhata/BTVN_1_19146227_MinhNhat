{
  "nbformat": 4,
  "nbformat_minor": 0,
  "metadata": {
    "colab": {
      "provenance": [],
      "authorship_tag": "ABX9TyOQkr+O7Eghrj4sV3vLX951",
      "include_colab_link": true
    },
    "kernelspec": {
      "name": "python3",
      "display_name": "Python 3"
    },
    "language_info": {
      "name": "python"
    }
  },
  "cells": [
    {
      "cell_type": "markdown",
      "metadata": {
        "id": "view-in-github",
        "colab_type": "text"
      },
      "source": [
        "<a href=\"https://colab.research.google.com/github/MinhNhata/BTVN_1_19146227_MinhNhat/blob/main/xml.ipynb\" target=\"_parent\"><img src=\"https://colab.research.google.com/assets/colab-badge.svg\" alt=\"Open In Colab\"/></a>"
      ]
    },
    {
      "cell_type": "code",
      "execution_count": null,
      "metadata": {
        "id": "o-1uc4h16nKg"
      },
      "outputs": [],
      "source": [
        "<?xml version=\"1.0\"?>\n",
        "<package format=\"2\">\n",
        "  <name>robot_gazebo</name>\n",
        "  <version>0.0.0</version>\n",
        "  <description>The robot_gazebo package</description>\n",
        "\n",
        "  <!-- One maintainer tag required, multiple allowed, one person per tag -->\n",
        "  <!-- Example:  -->\n",
        "  <!-- <maintainer email=\"jane.doe@example.com\">Jane Doe</maintainer> -->\n",
        "  <maintainer email=\"minhnhat@todo.todo\">minhnhat</maintainer>\n",
        "\n",
        "\n",
        "  <!-- One license tag required, multiple allowed, one license per tag -->\n",
        "  <!-- Commonly used license strings: -->\n",
        "  <!--   BSD, MIT, Boost Software License, GPLv2, GPLv3, LGPLv2.1, LGPLv3 -->\n",
        "  <license>TODO</license>\n",
        "\n",
        "\n",
        "  <!-- Url tags are optional, but multiple are allowed, one per tag -->\n",
        "  <!-- Optional attribute type can be: website, bugtracker, or repository -->\n",
        "  <!-- Example: -->\n",
        "  <!-- <url type=\"website\">http://wiki.ros.org/robot_gazebo</url> -->\n",
        "\n",
        "\n",
        "  <!-- Author tags are optional, multiple are allowed, one per tag -->\n",
        "  <!-- Authors do not have to be maintainers, but could be -->\n",
        "  <!-- Example: -->\n",
        "  <!-- <author email=\"jane.doe@example.com\">Jane Doe</author> -->\n",
        "\n",
        "\n",
        "  <!-- The *depend tags are used to specify dependencies -->\n",
        "  <!-- Dependencies can be catkin packages or system dependencies -->\n",
        "  <!-- Examples: -->\n",
        "  <!-- Use depend as a shortcut for packages that are both build and exec dependencies -->\n",
        "  <!--   <depend>roscpp</depend> -->\n",
        "  <!--   Note that this is equivalent to the following: -->\n",
        "  <!--   <build_depend>roscpp</build_depend> -->\n",
        "  <!--   <exec_depend>roscpp</exec_depend> -->\n",
        "  <!-- Use build_depend for packages you need at compile time: -->\n",
        "  <!--   <build_depend>message_generation</build_depend> -->\n",
        "  <!-- Use build_export_depend for packages you need in order to build against this package: -->\n",
        "  <!--   <build_export_depend>message_generation</build_export_depend> -->\n",
        "  <!-- Use buildtool_depend for build tool packages: -->\n",
        "  <!--   <buildtool_depend>catkin</buildtool_depend> -->\n",
        "  <!-- Use exec_depend for packages you need at runtime: -->\n",
        "  <!--   <exec_depend>message_runtime</exec_depend> -->\n",
        "  <!-- Use test_depend for packages you need only for testing: -->\n",
        "  <!--   <test_depend>gtest</test_depend> -->\n",
        "  <!-- Use doc_depend for packages you need only for building documentation: -->\n",
        "  <!--   <doc_depend>doxygen</doc_depend> -->\n",
        "  <buildtool_depend>catkin</buildtool_depend>\n",
        "  <build_depend>rviz</build_depend>\n",
        "  <build_depend>urdf</build_depend>\n",
        "  <build_export_depend>rviz</build_export_depend>\n",
        "  <build_export_depend>urdf</build_export_depend>\n",
        "  <exec_depend>rviz</exec_depend>\n",
        "  <exec_depend>urdf</exec_depend>\n",
        "\n",
        "\n",
        "  <!-- The export tag contains other, unspecified, tags -->\n",
        "  <export>\n",
        "    <!-- Other tools can request additional information be placed here -->\n",
        "\n",
        "  </export>\n",
        "</package>"
      ]
    }
  ]
}