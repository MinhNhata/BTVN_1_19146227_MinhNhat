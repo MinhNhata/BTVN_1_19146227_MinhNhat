{
  "nbformat": 4,
  "nbformat_minor": 0,
  "metadata": {
    "colab": {
      "provenance": [],
      "authorship_tag": "ABX9TyNU4eUVWPVMlDJGodhaKvre",
      "include_colab_link": true
    },
    "kernelspec": {
      "name": "python3",
      "display_name": "Python 3"
    },
    "language_info": {
      "name": "python"
    }
  },
  "cells": [
    {
      "cell_type": "markdown",
      "metadata": {
        "id": "view-in-github",
        "colab_type": "text"
      },
      "source": [
        "<a href=\"https://colab.research.google.com/github/MinhNhata/BTVN_1_19146227_MinhNhat/blob/main/naucom.ipynb\" target=\"_parent\"><img src=\"https://colab.research.google.com/assets/colab-badge.svg\" alt=\"Open In Colab\"/></a>"
      ]
    },
    {
      "cell_type": "code",
      "execution_count": null,
      "metadata": {
        "colab": {
          "base_uri": "https://localhost:8080/"
        },
        "id": "4F8lNcC7qoKw",
        "outputId": "3afd9304-1ec0-4347-a07f-4a82ccc4ab4a"
      },
      "outputs": [
        {
          "output_type": "stream",
          "name": "stdout",
          "text": [
            "Looking in indexes: https://pypi.org/simple, https://us-python.pkg.dev/colab-wheels/public/simple/\n",
            "Requirement already satisfied: scikit-fuzzy in /usr/local/lib/python3.8/dist-packages (0.4.2)\n",
            "Requirement already satisfied: networkx>=1.9.0 in /usr/local/lib/python3.8/dist-packages (from scikit-fuzzy) (3.0)\n",
            "Requirement already satisfied: scipy>=0.9.0 in /usr/local/lib/python3.8/dist-packages (from scikit-fuzzy) (1.7.3)\n",
            "Requirement already satisfied: numpy>=1.6.0 in /usr/local/lib/python3.8/dist-packages (from scikit-fuzzy) (1.22.4)\n"
          ]
        }
      ],
      "source": [
        "pip install scikit-fuzzy"
      ]
    },
    {
      "cell_type": "code",
      "source": [
        "import numpy as np\n",
        "import skfuzzy as fuzz\n",
        "from skfuzzy import control as ctrl\n",
        "\n",
        "\n",
        "time = ctrl.Antecedent(np.arange(0, 181, 1), 'time')\n",
        "rice = ctrl.Antecedent(np.arange(200, 1501, 1), 'rice')\n",
        "power = ctrl.Consequent(np.arange(0, 101, 1), 'power')\n",
        "\n",
        "\n",
        "time['ratnhanh'] = fuzz.trimf(time.universe,[8,8,15])\n",
        "time['nhanh'] = fuzz.trimf(time.universe,[15,15,25])\n",
        "time['binhthuong'] = fuzz.trimf(time.universe,[25,40,40])\n",
        "time['cham'] = fuzz.trimf(time.universe,[40,100,100])\n",
        "time['ratcham'] = fuzz.trimf(time.universe,[100,180,180])\n",
        "\n",
        "rice['ratit'] = fuzz.trimf(rice.universe,[200,200,500])\n",
        "rice['it'] = fuzz.trimf(rice.universe,[500,500,700])\n",
        "rice['binhthuong'] = fuzz.trimf(rice.universe,[700,1000,1000])\n",
        "rice['nhieu'] = fuzz.trimf(rice.universe,[1000,1200,1200])\n",
        "rice['ratnhieu'] = fuzz.trimf(rice.universe,[1200,1500,1500])\n",
        "\n",
        "\n",
        "\n",
        "power['thap'] = fuzz.trimf(power.universe,[0,15,15])\n",
        "power['trungbinh'] = fuzz.trimf(power.universe,[15,65,75])\n",
        "power['cao'] = fuzz.trimf(power.universe,[75,100,100])\n",
        "\n",
        "rule1 = ctrl.Rule(time['ratnhanh'] & rice['ratit'], power['trungbinh'])\n",
        "rule2 = ctrl.Rule(time['ratnhanh'] & rice['it'], power['trungbinh'])\n",
        "rule3 = ctrl.Rule(time['ratnhanh'] & rice['binhthuong'], power['cao'])\n",
        "rule4 = ctrl.Rule(time['ratnhanh'] & rice['nhieu'], power['cao'])\n",
        "rule5 = ctrl.Rule(time['ratnhanh'] & rice['ratnhieu'], power['cao'])\n",
        "\n",
        "rule6 = ctrl.Rule(time['nhanh'] & rice['ratit'], power['trungbinh'])\n",
        "rule7 = ctrl.Rule(time['nhanh'] & rice['it'], power['trungbinh'])\n",
        "rule8 = ctrl.Rule(time['nhanh'] & rice['binhthuong'], power['trungbinh'])\n",
        "rule9 = ctrl.Rule(time['nhanh'] & rice['nhieu'], power['cao'])\n",
        "rule10 = ctrl.Rule(time['nhanh'] & rice['ratnhieu'], power['cao'])\n",
        "\n",
        "rule11 = ctrl.Rule(time['binhthuong'] & rice['ratit'], power['trungbinh'])\n",
        "rule12 = ctrl.Rule(time['binhthuong'] & rice['it'], power['trungbinh'])\n",
        "rule13 = ctrl.Rule(time['binhthuong'] & rice['binhthuong'], power['trungbinh'])\n",
        "rule14 = ctrl.Rule(time['binhthuong'] & rice['nhieu'], power['trungbinh'])\n",
        "rule15 = ctrl.Rule(time['binhthuong'] & rice['ratnhieu'], power['trungbinh'])\n",
        "\n",
        "\n",
        "rule16 = ctrl.Rule(time['cham'] & rice['ratit'], power['thap'])\n",
        "rule17 = ctrl.Rule(time['cham'] & rice['it'], power['thap'])\n",
        "rule18 = ctrl.Rule(time['cham'] & rice['binhthuong'], power['thap'])\n",
        "rule19 = ctrl.Rule(time['cham'] & rice['nhieu'], power['thap'])\n",
        "rule20 = ctrl.Rule(time['cham'] & rice['ratnhieu'], power['thap'])\n",
        "\n",
        "\n",
        "rule21 = ctrl.Rule(time['ratcham'] & rice['ratit'], power['thap'])\n",
        "rule22 = ctrl.Rule(time['ratcham'] & rice['it'], power['thap'])\n",
        "rule23 = ctrl.Rule(time['ratcham'] & rice['binhthuong'], power['thap'])\n",
        "rule24 = ctrl.Rule(time['ratcham'] & rice['nhieu'], power['thap'])\n",
        "rule25 = ctrl.Rule(time['ratcham'] & rice['ratnhieu'], power['thap'])\n",
        "\n",
        "pow_ctrl = ctrl.ControlSystem([rule1, rule2, rule3, rule4, rule5, rule6, rule7, rule8 , rule9, rule10, rule11, rule12, rule13, rule14, rule15, rule16, rule17, rule18, rule19, rule20, rule21, rule22, rule23, rule24, rule25 ])\n",
        "\n",
        "\n",
        "pow = ctrl.ControlSystemSimulation(pow_ctrl)\n",
        "\n",
        "pow.input['time']=160\n",
        "pow.input['rice']=1000\n",
        "\n",
        "pow.compute()\n",
        "\n",
        "print(pow.output['power']) \n",
        "\n",
        "power.view(sim=pow)\n",
        "\n",
        "\n",
        "\n",
        "\n",
        "\n",
        "\n",
        "\n",
        "\n",
        "\n",
        "\n",
        "\n",
        "\n",
        "\n",
        "\n",
        "\n",
        "\n",
        "\n",
        "\n",
        "\n",
        "\n",
        "\n",
        "\n",
        "\n",
        "\n",
        "\n"
      ],
      "metadata": {
        "id": "Qc5mETapuYIn",
        "colab": {
          "base_uri": "https://localhost:8080/",
          "height": 298
        },
        "outputId": "67ba0143-009e-42df-f678-81cb273d3edc"
      },
      "execution_count": null,
      "outputs": [
        {
          "output_type": "stream",
          "name": "stdout",
          "text": [
            "10.1\n"
          ]
        },
        {
          "output_type": "display_data",
          "data": {
            "text/plain": [
              "<Figure size 432x288 with 1 Axes>"
            ],
            "image/png": "[encoded data removed]"
          },
          "metadata": {
            "needs_background": "light"
          }
        }
      ]
    }
  ]
}